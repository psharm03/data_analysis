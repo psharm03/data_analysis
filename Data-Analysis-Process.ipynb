{
 "cells": [
  {
   "cell_type": "markdown",
   "metadata": {},
   "source": [
    "## Data Analysis Process"
   ]
  },
  {
   "cell_type": "markdown",
   "metadata": {},
   "source": [
    "### 1. Question"
   ]
  },
  {
   "cell_type": "markdown",
   "metadata": {},
   "source": [
    "- Ask lot of question about data\n",
    "- What correlation we want to find out"
   ]
  },
  {
   "cell_type": "markdown",
   "metadata": {},
   "source": [
    "### 2. Wrangle"
   ]
  },
  {
   "cell_type": "markdown",
   "metadata": {},
   "source": [
    "- Gather\n",
    "- Asses (Write down your assesments)\n",
    "    - Quality\n",
    "    - Tidyness\n",
    "        - Each Variable is a Column\n",
    "        - Each Observation is a Row\n",
    "        - Each type of Observational Unit is a Table\n",
    "- Clean (Define, Code, Test)\n",
    "    - Cleaning Column Labels\n",
    "    - Missing data\n",
    "    - Duplicates\n",
    "    - Incorrect data types"
   ]
  },
  {
   "cell_type": "markdown",
   "metadata": {},
   "source": [
    "### 3. Explore"
   ]
  },
  {
   "cell_type": "markdown",
   "metadata": {},
   "source": [
    "- Explore\n",
    "- Augment"
   ]
  },
  {
   "cell_type": "markdown",
   "metadata": {},
   "source": [
    "### 4. Draw Conclusion"
   ]
  },
  {
   "cell_type": "markdown",
   "metadata": {},
   "source": [
    "- Gather your findings"
   ]
  },
  {
   "cell_type": "markdown",
   "metadata": {},
   "source": [
    "### 5. Communicate"
   ]
  },
  {
   "cell_type": "markdown",
   "metadata": {},
   "source": [
    "- Reports\n",
    "- Slides\n",
    "- Blog Post\n",
    "- Emails\n",
    "- Presentation"
   ]
  },
  {
   "cell_type": "markdown",
   "metadata": {},
   "source": []
  },
  {
   "cell_type": "markdown",
   "metadata": {},
   "source": [
    "### Pandas Query\n",
    "#### selecting malignant records in cancer data\n",
    "df_m = df[df['diagnosis'] == 'M']\n",
    "<br>\n",
    "df_m = df.query('diagnosis == \"M\"')\n",
    "\n",
    "#### selecting records of people making over \\$50K\n",
    "df_a = df[df['income'] == ' >50K']\n",
    "<br>\n",
    "df_a = df.query('income == \" >50K\"')\n",
    "\n",
    "#### selecting records in cancer data with radius greater than the median\n",
    "df_h = df[df['radius'] > 13.375]\n",
    "<br>\n",
    "df_h = df.query('radius > 13.375')\n"
   ]
  },
  {
   "cell_type": "markdown",
   "metadata": {},
   "source": []
  },
  {
   "cell_type": "markdown",
   "metadata": {},
   "source": []
  },
  {
   "cell_type": "markdown",
   "metadata": {},
   "source": []
  },
  {
   "cell_type": "markdown",
   "metadata": {},
   "source": []
  }
 ],
 "metadata": {
  "kernelspec": {
   "display_name": "Python 3",
   "language": "python",
   "name": "python3"
  },
  "language_info": {
   "codemirror_mode": {
    "name": "ipython",
    "version": 3
   },
   "file_extension": ".py",
   "mimetype": "text/x-python",
   "name": "python",
   "nbconvert_exporter": "python",
   "pygments_lexer": "ipython3",
   "version": "3.7.4"
  }
 },
 "nbformat": 4,
 "nbformat_minor": 2
}
